{
 "cells": [
  {
   "cell_type": "markdown",
   "metadata": {
    "vscode": {
     "languageId": "markwhen"
    }
   },
   "source": [
    "这个世界是由能量充斥着的，能量是万物的本源。\n",
    "后来出现一些能量体，疯狂吸收能量，相互争抢能量，最终形成一个相对稳定的世界。\n",
    "能量体们为了争夺能量，开始了无休止的战争。\n",
    "由于世界是运动的，有些能量体运动到了边缘地区，那里能量稀薄，~\n",
    "产生了一种能量体，称之为“灵长类”，~\n",
    "（这个世界中能量体差异太大~ 不同能量体之间无法直接沟通（或者说很难沟通），但可以同时存在）  \n",
    "这个世界中产生了很多故事\n",
    "\n"
   ]
  },
  {
   "cell_type": "code",
   "execution_count": null,
   "metadata": {},
   "outputs": [],
   "source": [
    "import os\n",
    "\n",
    "print(\"hello nameless world.\")"
   ]
  }
 ],
 "metadata": {
  "language_info": {
   "name": "python"
  }
 },
 "nbformat": 4,
 "nbformat_minor": 2
}
